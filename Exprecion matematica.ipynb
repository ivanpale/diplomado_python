{
 "cells": [
  {
   "cell_type": "code",
   "execution_count": null,
   "id": "f0bcab34",
   "metadata": {},
   "outputs": [],
   "source": [
    "# IVAN DARIO APLENCIA ALEAN\n",
    "# ID: 502223\n",
    "\n",
    "\n",
    "a= float(input(\"Ingresa el valor de a:\"))\n",
    "b= float(input(\"Ingresa el valor de b:\"))\n",
    "c= float(input(\"Ingresa el valor de c:\"))\n",
    "d= float(input(\"Ingresa el valor de d:\"))\n",
    "e= float(input(\"Ingresa el valor de e:\"))\n",
    "f= float(input(\"Ingresa el valor de f:\"))\n",
    "ecua1=(a+b/c) / (d+e/f)\n",
    "print(f\"aqui esta tu resultado:{ecua1:,.3f}\")\n",
    "\n",
    "ecua2= (a- b/c-d)\n",
    "print(f\"aqui esta tu resultado:{ecua2:,.3f}\")"
   ]
  },
  {
   "cell_type": "code",
   "execution_count": null,
   "id": "670f8201",
   "metadata": {},
   "outputs": [],
   "source": []
  },
  {
   "cell_type": "markdown",
   "id": "cb5b6fc2",
   "metadata": {},
   "source": [
    "###### "
   ]
  },
  {
   "cell_type": "markdown",
   "id": "08fd5cc0",
   "metadata": {},
   "source": [
    "###### "
   ]
  },
  {
   "cell_type": "markdown",
   "id": "4fcab214",
   "metadata": {},
   "source": [
    "###### "
   ]
  },
  {
   "cell_type": "markdown",
   "id": "e76ae2e6",
   "metadata": {},
   "source": [
    "###### "
   ]
  }
 ],
 "metadata": {
  "kernelspec": {
   "display_name": "Python 3 (ipykernel)",
   "language": "python",
   "name": "python3"
  },
  "language_info": {
   "codemirror_mode": {
    "name": "ipython",
    "version": 3
   },
   "file_extension": ".py",
   "mimetype": "text/x-python",
   "name": "python",
   "nbconvert_exporter": "python",
   "pygments_lexer": "ipython3",
   "version": "3.9.12"
  }
 },
 "nbformat": 4,
 "nbformat_minor": 5
}
