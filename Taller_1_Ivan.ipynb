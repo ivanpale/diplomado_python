{
 "cells": [
  {
   "cell_type": "markdown",
   "id": "5d92329a",
   "metadata": {},
   "source": [
    "## Solución al Taller Numero 1\n",
    "\n",
    "### Diplomado Python aplicado a la Ingeniería\n",
    "\n",
    "- Autor: ivan palencia\n",
    "- ID: \n",
    "- email: ivan.palencia@upb.co\n",
    "\n"
   ]
  },
  {
   "cell_type": "code",
   "execution_count": 15,
   "id": "88597c3c",
   "metadata": {},
   "outputs": [
    {
     "name": "stdout",
     "output_type": "stream",
     "text": [
      "Nombre del cantante: lalo\n",
      "\n",
      "Mami  Voy a  Ligar  Lento  Todo el día  Feis to feis Yo soy lalo\n",
      "Bebe  Yo vengo a  Ligar  Suave  Hasta que salga el sol  Sin anestesia Yo soy lalo\n",
      "Mami  Yo quiero  Ligar  Fuerte  Toda la noche  Feis to feis Yo soy lalo\n",
      "Bebe  Voy a  Amalte  Suave  Toda la noche  Sin miedo Yo soy lalo\n"
     ]
    }
   ],
   "source": [
    "import random\n",
    "\n",
    "autor = input(\"Nombre del cantante: \")\n",
    "def funcioncancion():\n",
    "    \n",
    "    \n",
    "    Lista1 = [\"Mami \", \"Bebe \", \"Princess \", \"Mami \"]\n",
    "    Lista2 = [\"Yo quiero \",\"Yo puedo \", \"Yo vengo a \", \"Voy a \"]\n",
    "    Lista3 = [\"Encendelte \", \"Amalte \", \"Ligar \", \"Jugar \"]\n",
    "    Lista4 = [\"Suave \", \"Lento \", \"Rapido \", \"Fuerte \"]\n",
    "    Lista5 = [\"Hasta que salga el sol \", \"Toda la noche \", \"Hasta el amanecer \", \"Todo el día \"]\n",
    "    Lista6 = [\"Sin anestesia \", \"Sin compromiso\", \"Feis to feis \", \"Sin miedo \"]\n",
    "\n",
    "\n",
    "    PalabrasC = Lista1[0] + ' ' + Lista2[0] + ' ' + Lista3[0]+ ' ' + Lista4[0]+ ' ' + Lista5[0] + Lista6[0] + ' '\n",
    "    \n",
    "    lines = 4\n",
    "    line = 0\n",
    "    paragraph = ''\n",
    "    \n",
    "    while line < lines:\n",
    "        x_1 = random.randint(0, len(Lista1)-1)\n",
    "        x_2 = random.randint(0, len(Lista2)-1)\n",
    "        x_3 = random.randint(0, len(Lista3)-1)\n",
    "        x_4 = random.randint(0, len(Lista4)-1)\n",
    "        x_5 = random.randint(0, len(Lista5)-1)\n",
    "        x_6 = random.randint(0, len(Lista6)-1)\n",
    "        \n",
    "        paragraph += '\\n' + Lista1[x_1] + ' ' + Lista2[x_2] + ' ' + Lista3[x_3]+ ' ' + Lista4[x_4]+ ' ' + Lista5[x_5]+ ' ' + Lista6[x_6]  + \"Yo soy \" + autor\n",
    "        \n",
    "        line += 1\n",
    "        \n",
    "    print(paragraph )\n",
    "    \n",
    "      \n",
    "funcioncancion()"
   ]
  },
  {
   "cell_type": "code",
   "execution_count": null,
   "id": "f03a6924",
   "metadata": {},
   "outputs": [],
   "source": []
  },
  {
   "cell_type": "code",
   "execution_count": null,
   "id": "b2aff3fb",
   "metadata": {},
   "outputs": [],
   "source": []
  }
 ],
 "metadata": {
  "kernelspec": {
   "display_name": "Python 3 (ipykernel)",
   "language": "python",
   "name": "python3"
  },
  "language_info": {
   "codemirror_mode": {
    "name": "ipython",
    "version": 3
   },
   "file_extension": ".py",
   "mimetype": "text/x-python",
   "name": "python",
   "nbconvert_exporter": "python",
   "pygments_lexer": "ipython3",
   "version": "3.9.12"
  }
 },
 "nbformat": 4,
 "nbformat_minor": 5
}
