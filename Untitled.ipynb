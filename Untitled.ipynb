{
 "cells": [
  {
   "cell_type": "code",
   "execution_count": null,
   "id": "b56bbe01",
   "metadata": {},
   "outputs": [
    {
     "name": "stdout",
     "output_type": "stream",
     "text": [
      "Bienvenido a cine python. ¿En qué podemos ayudarte?\n",
      "    \n",
      "     \n",
      "    1. Comidas\n",
      "    2. Alquiler\n",
      "    0. Salir\n",
      "    \n",
      "Seleccione una opción:\n",
      "2\n"
     ]
    }
   ],
   "source": [
    "flag = True\n",
    "while flag:\n",
    "    print(\"\"\"Bienvenido a cine python. ¿En qué podemos ayudarte?\n",
    "    \n",
    "     \n",
    "    1. Comidas\n",
    "    2. Alquiler\n",
    "    0. Salir\n",
    "    \"\"\")\n",
    "    \n",
    "    \n",
    "    choice = input(\"Seleccione una opción:\\n\")\n",
    "    if choice == '0':\n",
    "        print(\"Muchas gracias. Vuelve pronto. \")\n",
    "        break\n",
    "        \n",
    "    elif choice == '1':\n",
    "        a = input(\"\"\"\"seleciiones un combo:\\n\n",
    "                   1. perros y gaseosa\n",
    "                   2. crispetas y gaseosa\n",
    "                   3. gaseosa perros y crispertas\"\"\")\n",
    "        if a == 'x':\n",
    "            \n",
    "            print('\\nIngresaste una \\\"x\\\"\\n')\n",
    "        else:\n",
    "            print('\\nIngresaste algo diferente a una \\\"x\\\"\\n')\n",
    "    elif choice == '2':\n",
    "        b = int(input(\"\"\"\"selecione una sala:\\n\n",
    "                        1. sala_1 de 1 a 10 personas\n",
    "                        2. sala_2 de 1 a 25 personas\n",
    "                        3. sala_3 de 1 a 30 personas\"\"\"))\n",
    "        \n",
    "        def calcular \n",
    "        "
   ]
  },
  {
   "cell_type": "code",
   "execution_count": null,
   "id": "6ee3bfe8",
   "metadata": {},
   "outputs": [],
   "source": []
  },
  {
   "cell_type": "code",
   "execution_count": null,
   "id": "e2e2746d",
   "metadata": {},
   "outputs": [],
   "source": []
  },
  {
   "cell_type": "code",
   "execution_count": null,
   "id": "cd9249fc",
   "metadata": {},
   "outputs": [],
   "source": []
  },
  {
   "cell_type": "code",
   "execution_count": null,
   "id": "5b4afa3d",
   "metadata": {},
   "outputs": [],
   "source": []
  },
  {
   "cell_type": "code",
   "execution_count": null,
   "id": "1d240673",
   "metadata": {},
   "outputs": [],
   "source": []
  },
  {
   "cell_type": "code",
   "execution_count": null,
   "id": "620bd7b7",
   "metadata": {},
   "outputs": [],
   "source": []
  },
  {
   "cell_type": "code",
   "execution_count": null,
   "id": "9703617b",
   "metadata": {},
   "outputs": [],
   "source": []
  },
  {
   "cell_type": "code",
   "execution_count": null,
   "id": "2291843f",
   "metadata": {},
   "outputs": [],
   "source": []
  },
  {
   "cell_type": "code",
   "execution_count": null,
   "id": "c9ee8ffb",
   "metadata": {},
   "outputs": [],
   "source": []
  },
  {
   "cell_type": "code",
   "execution_count": null,
   "id": "76fe3ab8",
   "metadata": {},
   "outputs": [],
   "source": []
  },
  {
   "cell_type": "code",
   "execution_count": null,
   "id": "bc50b358",
   "metadata": {},
   "outputs": [],
   "source": []
  },
  {
   "cell_type": "code",
   "execution_count": null,
   "id": "fe708074",
   "metadata": {},
   "outputs": [],
   "source": []
  },
  {
   "cell_type": "code",
   "execution_count": null,
   "id": "8780e62f",
   "metadata": {},
   "outputs": [],
   "source": []
  },
  {
   "cell_type": "code",
   "execution_count": null,
   "id": "1e3c135e",
   "metadata": {},
   "outputs": [],
   "source": []
  }
 ],
 "metadata": {
  "kernelspec": {
   "display_name": "Python 3 (ipykernel)",
   "language": "python",
   "name": "python3"
  },
  "language_info": {
   "codemirror_mode": {
    "name": "ipython",
    "version": 3
   },
   "file_extension": ".py",
   "mimetype": "text/x-python",
   "name": "python",
   "nbconvert_exporter": "python",
   "pygments_lexer": "ipython3",
   "version": "3.9.12"
  }
 },
 "nbformat": 4,
 "nbformat_minor": 5
}
