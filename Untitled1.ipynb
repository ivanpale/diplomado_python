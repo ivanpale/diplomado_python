{
 "cells": [
  {
   "cell_type": "code",
   "execution_count": 165,
   "id": "108b12a9",
   "metadata": {},
   "outputs": [
    {
     "name": "stdout",
     "output_type": "stream",
     "text": [
      "\n",
      "camila mientes me haces daño y luego te arrepientes\n",
      "camila ya no me haces daño y luego te arrepientes\n",
      "camila ya no que perdi que hoy estoy\n",
      "camila busca me haces daño y luego te arrepientes\n"
     ]
    }
   ],
   "source": [
    "import random\n",
    "sujeto = [\"camila\"]\n",
    "accion = [\"mientes\",\"ya no\",\"busca\"]\n",
    "complemento = [\"me haces daño y luego te arrepientes\",\"caso que lo intentes\",\"tu camino en otra\",\"que perdi que hoy estoy\"]\n",
    "frase = sujeto[0] + ' ' + accion[0] + ' ' + complemento[0]\n",
    "\n",
    "lines = 4\n",
    "line = 0\n",
    "paragraph = ''\n",
    "while line < lines:\n",
    "    x_1 = random.randint(0, len(sujeto)-1)\n",
    "    x_2 = random.randint(0, len(accion)-1)\n",
    "    x_3 = random.randint(0, len(complemento)-1)\n",
    "    paragraph += '\\n' + sujeto[x_1] + ' ' + accion[x_2] + ' ' + complemento[x_3]\n",
    "    line += 1\n",
    "\n",
    "print(paragraph)\n",
    "                                                                         "
   ]
  },
  {
   "cell_type": "code",
   "execution_count": null,
   "id": "facf92bc",
   "metadata": {},
   "outputs": [],
   "source": [
    "                                                                                                                 "
   ]
  },
  {
   "cell_type": "code",
   "execution_count": null,
   "id": "0bc90a9d",
   "metadata": {},
   "outputs": [],
   "source": [
    "                                                 "
   ]
  },
  {
   "cell_type": "markdown",
   "id": "52d3af56",
   "metadata": {},
   "source": [
    "    "
   ]
  },
  {
   "cell_type": "raw",
   "id": "d8ba35a9",
   "metadata": {},
   "source": []
  },
  {
   "cell_type": "code",
   "execution_count": null,
   "id": "126e4d30",
   "metadata": {},
   "outputs": [],
   "source": []
  },
  {
   "cell_type": "code",
   "execution_count": null,
   "id": "bf934b7d",
   "metadata": {},
   "outputs": [],
   "source": []
  },
  {
   "cell_type": "code",
   "execution_count": null,
   "id": "45344372",
   "metadata": {},
   "outputs": [],
   "source": []
  }
 ],
 "metadata": {
  "kernelspec": {
   "display_name": "Python 3 (ipykernel)",
   "language": "python",
   "name": "python3"
  },
  "language_info": {
   "codemirror_mode": {
    "name": "ipython",
    "version": 3
   },
   "file_extension": ".py",
   "mimetype": "text/x-python",
   "name": "python",
   "nbconvert_exporter": "python",
   "pygments_lexer": "ipython3",
   "version": "3.9.12"
  }
 },
 "nbformat": 4,
 "nbformat_minor": 5
}
