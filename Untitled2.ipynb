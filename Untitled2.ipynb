{
 "cells": [
  {
   "cell_type": "code",
   "execution_count": null,
   "id": "624a0c63",
   "metadata": {},
   "outputs": [],
   "source": [
    "flag = True \n",
    "while flag:\n",
    "    choice = input(\"\"\"BIENVENIDO A CINEPYTHON.\n",
    "                 SELECCIONE UNA OP:\n",
    "                 1. n_personas\n",
    "                 2. comidas\n",
    "                 3. Alqulier\n",
    "                 4. salir\n",
    "                 \"\"\") \n",
    "    if choice == \"4\":\n",
    "        print(\"gracias por venir\")\n",
    "        break\n",
    "    if choice == \"1\":\n",
    "         input (\"\"\"n_personas:\"\"\")\n",
    "            break\n",
    "            if choice == \"2\":\n",
    "                input(\"\"\"\"comida\n",
    "                1 gaseosa, crispeta,perro\"\"\":)\n",
    "                \n",
    "            "
   ]
  },
  {
   "cell_type": "code",
   "execution_count": null,
   "id": "f4bdbae5",
   "metadata": {},
   "outputs": [],
   "source": []
  },
  {
   "cell_type": "code",
   "execution_count": null,
   "id": "494503b6",
   "metadata": {},
   "outputs": [],
   "source": []
  },
  {
   "cell_type": "code",
   "execution_count": null,
   "id": "1cf9d272",
   "metadata": {},
   "outputs": [],
   "source": []
  },
  {
   "cell_type": "code",
   "execution_count": null,
   "id": "303bbe12",
   "metadata": {},
   "outputs": [],
   "source": []
  },
  {
   "cell_type": "code",
   "execution_count": null,
   "id": "46d22971",
   "metadata": {},
   "outputs": [],
   "source": []
  },
  {
   "cell_type": "code",
   "execution_count": null,
   "id": "20556836",
   "metadata": {},
   "outputs": [],
   "source": []
  }
 ],
 "metadata": {
  "kernelspec": {
   "display_name": "Python 3 (ipykernel)",
   "language": "python",
   "name": "python3"
  },
  "language_info": {
   "codemirror_mode": {
    "name": "ipython",
    "version": 3
   },
   "file_extension": ".py",
   "mimetype": "text/x-python",
   "name": "python",
   "nbconvert_exporter": "python",
   "pygments_lexer": "ipython3",
   "version": "3.9.12"
  }
 },
 "nbformat": 4,
 "nbformat_minor": 5
}
